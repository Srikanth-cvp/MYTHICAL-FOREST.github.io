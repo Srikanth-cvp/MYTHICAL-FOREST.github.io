import random

# Grid settings
GRID_SIZE = 6

# Random starting position
player_pos = [random.randint(0, GRID_SIZE - 1), random.randint(0, GRID_SIZE - 1)]
origin = tuple(player_pos)
coins = 0
health = 100

# Event probabilities
events = ["nothing", "treasure", "bandit", "trap", "teleport", "heal"]
weights = [30, 20, 17, 14, 10, 9]

def random_event():
    global coins, health, player_pos

    if tuple(player_pos) == origin:
        return

    event = random.choices(events, weights=weights, k=1)[0]

    if event == "treasure":
        gain = random.randint(10, 30)
        print(f"💰 Found treasure! +{gain} coins")
        coins = min(100, coins + gain)

    elif event == "bandit":
        loss = random.randint(5, 20)
        if coins >= loss:
            print(f"🦹 Bandit stole {loss} coins!")
            coins = max(0, coins - loss)
        else:
            print(f"🦹 Bandit stole {coins} coins and also hurt you! -{loss - coins} health")
            health = max(0, health - (loss - coins))
            coins = 0

    elif event == "trap":
        damage = random.randint(10, 30)
        print(f"💥 Trap triggered! -{damage} health")
        health = max(0, health - damage)

    elif event == "teleport":
        print("🌀 A magical portal sends you to a random location!")
        player_pos[0] = random.randint(0, GRID_SIZE - 1)
        player_pos[1] = random.randint(0, GRID_SIZE - 1)

    elif event == "heal":
        heal = random.randint(5, 15)
        print(f"🌿 You found herbs! +{heal} health")
        health = min(100, health + heal)

    elif event == "nothing":
        print("🌲 Nothing here...")

def move():
    global player_pos
    while True:
        direction = input("Move (up/down/left/right): ").strip().lower()
        if direction not in ["up", "down", "left", "right"]:
            print("❌ Invalid input. Try again.")
            continue

        x, y = player_pos
        new_x, new_y = x, y

        if direction == "up":
            new_y -= 1
        elif direction == "down":
            new_y += 1
        elif direction == "left":
            new_x -= 1
        elif direction == "right":
            new_x += 1

        if 0 <= new_x < GRID_SIZE and 0 <= new_y < GRID_SIZE:
            player_pos = [new_x, new_y]
            return True
        else:
            print("🚫 You can't move outside the forest!")
            return False

# Game loop
while True:
    # Trigger tile event
    random_event()

    # Check for death after event
    if health <= 0:
        print(f"\n📍 Position: {tuple(player_pos)}, 💰 Coins: {coins}, ❤️ Health: 0")
        print("☠️ You died in the forest. Game Over.")
        break

    # Check for win
    if coins >= 100:
        print(f"\n📍 Position: {tuple(player_pos)}, 💰 Coins: {coins}, ❤️ Health: {health}")
        print("🏆 You collected enough coins and escaped the forest!")
        break

    # Show updated status
    print(f"\n📍 Position: {tuple(player_pos)}, 💰 Coins: {coins}, ❤️ Health: {health}")

    # Wait for valid movement
    while not move():
        continue
